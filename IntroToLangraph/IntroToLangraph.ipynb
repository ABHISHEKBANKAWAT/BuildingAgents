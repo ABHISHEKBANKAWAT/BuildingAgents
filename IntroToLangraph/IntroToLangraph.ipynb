{
 "cells": [
  {
   "cell_type": "markdown",
   "id": "e9d9be96",
   "metadata": {},
   "source": [
    "# Introduction to LangGraph\n",
    "LangGraph is a framework for creating applications using graph based workflows. Each node represents a function or a computational step, and edges defined the flow between these nodes based on certain conditions.\n",
    "\n",
    "## Key Features\n",
    "-   State Management: LangGraph provides a state management system that allows you to store and retrieve data between nodes in a workflow.\n",
    "-   Flexible Routing: LangGraph allows you to define custom routing logic based on the state of the workflow, enabling dynamic and adaptive workflows.\n",
    "-   Persistence: LangGraph provides a persistence layer that allows you to store and retrieve data between nodes in a workflow.\n",
    "-   Visualization: LangGraph provides a visualization layer that allows you to visualize the workflow in a graph based format.\n",
    "\n",
    "## Tutorial Overview: Text Analysis Pipeline\n",
    "We will demonstrate the power of LangGraph by building a text analysis pipeline with multiple nodes. We will have 3 key stages-\n",
    "1. Text Classification - We'll categorize the text into predefined categories.\n",
    "2. Entity Extraction - We'll identify and extract entities such as persons, organizations, and locations.\n",
    "3. Text Summarization - We'll generate a summary of the text.\n",
    "\n",
    "### Importing Required Libraries\n"
   ]
  },
  {
   "cell_type": "code",
   "execution_count": 2,
   "id": "b0a399ff",
   "metadata": {},
   "outputs": [],
   "source": [
    "import os\n",
    "from typing import TypedDict, List\n",
    "from langgraph.graph import StateGraph, END\n",
    "from langchain.prompts import PromptTemplate\n",
    "from langchain_google_genai import ChatGoogleGenerativeAI\n",
    "from langchain.schema import HumanMessage\n",
    "from langchain_core.runnables.graph import MermaidDrawMethod\n",
    "from IPython.display import display, Image\n",
    "\n",
    "from dotenv import load_dotenv"
   ]
  },
  {
   "cell_type": "code",
   "execution_count": 3,
   "id": "aec380ba",
   "metadata": {},
   "outputs": [],
   "source": [
    "load_dotenv()\n",
    "os.environ[\"GOOGLE_API_KEY\"] = os.getenv('GOOGLE_API_KEY')"
   ]
  },
  {
   "cell_type": "markdown",
   "id": "0d702747",
   "metadata": {},
   "source": [
    "## Building the text Processing Pipeline\n",
    "### Define state and Initialize LLM\n",
    "Here we define the State class to hold our workflow data"
   ]
  },
  {
   "cell_type": "code",
   "execution_count": 8,
   "id": "f491d7e7",
   "metadata": {},
   "outputs": [],
   "source": [
    "class State(TypedDict):\n",
    "    text: str\n",
    "    classification: str\n",
    "    entities: List[str]\n",
    "    summary: str\n",
    "llm = ChatGoogleGenerativeAI(\n",
    "    model=\"gemini-1.5-flash\", # Changed model here!\n",
    "    temperature=0,\n",
    "    google_api_key=os.getenv('GOOGLE_API_KEY')\n",
    ")"
   ]
  },
  {
   "cell_type": "markdown",
   "id": "9e5591cd",
   "metadata": {},
   "source": [
    "### Define Node Functions\n",
    "These functions define the operations performed at each node of our graph: classification, entity extraction, and summarization."
   ]
  },
  {
   "cell_type": "code",
   "execution_count": null,
   "id": "4df53a2b",
   "metadata": {},
   "outputs": [],
   "source": [
    "def classification_node(state: State):\n",
    "    \"\"\"Classify the text into one of the following categories: News, Blog, Research or Other.\"\"\"\n",
    "    prompt = PromptTemplate(\n",
    "        input_variables=[\"text\"],\n",
    "        template=\"Classify the text into one of the following categories: News, Blog, Research or Other.\\n\\nText:{text}\\n\\nCategory:\"\n",
    "    )\n",
    "    message = HumanMessage(content=prompt.format(text=state[\"text\"]))\n",
    "    classification = llm.invoke([message]).content.strip()\n",
    "    return {\"classification\": classification}\n",
    "\n",
    "def entity_extraction_node(state:State):\n",
    "    \"\"\"Extract entities from the text like Person, Organization, Location, etc.\"\"\"\n",
    "    prompt =PromptTemplate(\n",
    "        input_variables = [\"text\"],\n",
    "        template = \"Extract entities from the text like Person, Organization, Location, etc. Provide the result as a comma-separated list.\\n\\nText:{text}\\n\\nEntities:\"\n",
    "        )\n",
    "    message = HumanMessage(content=prompt.format(text=state[\"text\"]))\n",
    "    entities = llm.invoke([message]).content.strip()\n",
    "    return {\"entities\": entities}\n",
    "\n",
    "def summarization_node(state:State):\n",
    "    \"\"\"Summarize the text.\"\"\"\n",
    "    prompt = PromptTemplate(\n",
    "        input_variables=[\"text\"],\n",
    "        template=\"Summarize the text in one short sentence..\\n\\nText:{text}\\n\\nSummary:\"\n",
    "    )\n",
    "    message = HumanMessage(content=prompt.format(text=state[\"text\"]))\n",
    "    summary = llm.invoke([message]).content.strip()\n",
    "    return {\"summary\": summary}\n",
    "\n"
   ]
  },
  {
   "cell_type": "code",
   "execution_count": 16,
   "id": "d6fa2ae0",
   "metadata": {},
   "outputs": [],
   "source": [
    "workflow = StateGraph(State)\n",
    "\n",
    "workflow.add_node(\"classification_node\", classification_node)\n",
    "workflow.add_node(\"entity_extraction_node\", entity_extraction_node)\n",
    "workflow.add_node(\"summarization_node\", summarization_node)\n",
    "\n",
    "workflow.set_entry_point(\"classification_node\")\n",
    "workflow.add_edge(\"classification_node\", \"entity_extraction_node\")\n",
    "workflow.add_edge(\"entity_extraction_node\", \"summarization_node\")\n",
    "workflow.add_edge(\"summarization_node\", END)\n",
    "\n",
    "app = workflow.compile()\n"
   ]
  },
  {
   "cell_type": "code",
   "execution_count": 17,
   "id": "25d5596b",
   "metadata": {},
   "outputs": [
    {
     "data": {
      "image/png": "[encoded data removed]",
      "text/plain": [
       "<IPython.core.display.Image object>"
      ]
     },
     "metadata": {},
     "output_type": "display_data"
    }
   ],
   "source": [
    "display(\n",
    "    Image(\n",
    "        app.get_graph().draw_mermaid_png(\n",
    "            draw_method=MermaidDrawMethod.API,\n",
    "        )\n",
    "    )\n",
    ")"
   ]
  },
  {
   "cell_type": "code",
   "execution_count": 18,
   "id": "00e87843",
   "metadata": {},
   "outputs": [
    {
     "name": "stdout",
     "output_type": "stream",
     "text": [
      "Classification:  News\n",
      "Entities:  OpenAI,GPT-4,GPT-3\n",
      "Summary:  Please provide the text you would like me to summarize.\n"
     ]
    }
   ],
   "source": [
    "## Testing\n",
    "\n",
    "sample_text = \"\"\"\n",
    "OpenAI has announced the GPT-4 model, which is a large multimodal model that exhibits human-level performance on various professional benchmarks. It is developed to improve the alignment and safety of AI systems.\n",
    "additionally, the model is designed to be more efficient and scalable than its predecessor, GPT-3. The GPT-4 model is expected to be released in the coming months and will be available to the public for research and development purposes.\n",
    "\"\"\"\n",
    "\n",
    "state_input = {\"text\": sample_text}\n",
    "result = app.invoke(state_input)\n",
    "print(\"Classification: \", result[\"classification\"])\n",
    "print(\"Entities: \", result[\"entities\"])\n",
    "print(\"Summary: \", result[\"summary\"])"
   ]
  },
  {
   "cell_type": "code",
   "execution_count": null,
   "id": "2264c083",
   "metadata": {},
   "outputs": [],
   "source": []
  }
 ],
 "metadata": {
  "kernelspec": {
   "display_name": "venv",
   "language": "python",
   "name": "python3"
  },
  "language_info": {
   "codemirror_mode": {
    "name": "ipython",
    "version": 3
   },
   "file_extension": ".py",
   "mimetype": "text/x-python",
   "name": "python",
   "nbconvert_exporter": "python",
   "pygments_lexer": "ipython3",
   "version": "3.13.3"
  }
 },
 "nbformat": 4,
 "nbformat_minor": 5
}
