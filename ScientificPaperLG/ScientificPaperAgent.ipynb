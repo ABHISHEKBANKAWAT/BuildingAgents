{
 "cells": [
  {
   "cell_type": "markdown",
   "id": "4625836e",
   "metadata": {},
   "source": [
    "## Scientific Paper Agent using LangGraph\n",
    "### Overview\n",
    "This project implements an intelligent research assistant that helps users navigate, understand, and analyze scientific literature using LangGraph and advanced language models. By combining various academic API with sophisticated paper processing techniques, it creates a seamless experience for researchers, students, and professionals working with academic papers.\n",
    "\n",
    "### Motivation \n",
    "Reduce the time people invest in R&D and reading, analyzing and synthesizing academic papers. \n",
    "Key Challenes include - \n",
    "* Extensive Time commitment \n",
    "* Inefficient search processes accross fragmented database ecosystems\n",
    "* Complex task synthesizingand connecting findings across multiple papers\n",
    "* Stay current with new publications\n",
    "\n",
    "## Key Components\n",
    "1. State-Driven Workflow Engine\n",
    "* StateGraph Architecture: Five-node system for orchestraded research.\n",
    "* Decision making node: Query intent analysis and routing.\n",
    "* Planning Node: Research Stategy formulation.\n",
    "* Tool Execution Node: Paper Retrievel and processing.\n",
    "* Judge Node: Quality validation and improvement cycles.\n",
    "\n",
    "2. Paper Processing Integration\n",
    "* Source Integration, CORE API for Comprehensive paper access.\n",
    "* Document Processing, PDF content extraction, Text Structure preservation.\n",
    "3. Analysis Workflow\n",
    "* State-aware processing pipeline\n",
    "* Multi-step validation gates\n",
    "* Quality-focused improvement cycles.\n",
    "* Human-in-the-loop validation options.\n",
    "\n",
    "\n",
    "### Method details\n",
    "#### The system requires\n",
    "\n",
    "- Gemini API Key.\n",
    "- CORE API key for paper retrieval. CORE is one of the larges online repositories for scientific papers, counting over 136 million papers, and offers a free API for personal use. A key can be requested here.\n",
    "#### Technical Architecture:\n",
    "\n",
    "- LangGraph for state orchestration.\n",
    "- PDFplumber for document processing.\n",
    "- Pydantic for structured data handling."
   ]
  },
  {
   "cell_type": "code",
   "execution_count": 5,
   "id": "7a613481",
   "metadata": {},
   "outputs": [],
   "source": [
    "import io\n",
    "import json\n",
    "import os\n",
    "import urllib3\n",
    "import time\n",
    "\n",
    "import pdfplumber\n",
    "from dotenv import load_dotenv\n",
    "from IPython.display import display, Markdown\n",
    "from langchain_core.messages import BaseMessage, SystemMessage, ToolMessage, AIMessage\n",
    "from langchain_core.tools import BaseTool, tool\n",
    "from langgraph.graph import END, StateGraph\n",
    "from langgraph.graph.state import CompiledStateGraph\n",
    "from langgraph.graph.message import add_messages\n",
    "from pydantic import BaseModel, Field\n",
    "from typing import Annotated, ClassVar, Sequence, TypedDict, Optional\n",
    "urllib3.disable_warnings(urllib3.exceptions.InsecureRequestWarning)\n",
    "\n",
    "load_dotenv()\n",
    "os.environ[\"GOOGLE_API_KEY\"] = os.getenv('GOOGLE_API_KEY')\n",
    "os.environ[\"CORE_API_KEY\"] = os.getenv('CORE_API_KEY')"
   ]
  },
  {
   "cell_type": "markdown",
   "id": "2fb770d4",
   "metadata": {},
   "source": [
    "## Prompts\n",
    "this cell contains the prompts used in the workflow\n",
    "\n",
    "the agent_prompt  contains a section how to use complex queries with CORE API enabling agent to solve more complex tasks."
   ]
  },
  {
   "cell_type": "code",
   "execution_count": null,
   "id": "4ff595dd",
   "metadata": {},
   "outputs": [],
   "source": [
    "# Prompt for the initial decision making on how to reply to the user \n",
    "decision_making_prompt = \"\"\"\n",
    "You are an experienced scientific researcher.\n",
    "Your goal is to help the use with their scientific research.\n",
    "\n",
    "Based on the user query, decide if you need to perform a research or if you can answer the question directly.\n",
    "- You should perform a research if the user query requires any supporting evidence or information.\n",
    "- You should answer the question directly if the user query is a simple question that can be answered without any supporting evidence or information.\n",
    "\"\"\"\n",
    "\n",
    "# planning \n",
    "planning_prompt = \"\"\"\n",
    "You are an experienced scientific researcher.\n",
    "Your goal is to make a new step by step plan to help the user with their scientific research.\n",
    "\n",
    "\n"
   ]
  },
  {
   "cell_type": "code",
   "execution_count": null,
   "id": "53d97493",
   "metadata": {},
   "outputs": [],
   "source": []
  },
  {
   "cell_type": "code",
   "execution_count": null,
   "id": "572e4c2d",
   "metadata": {},
   "outputs": [],
   "source": []
  }
 ],
 "metadata": {
  "kernelspec": {
   "display_name": "venv",
   "language": "python",
   "name": "python3"
  },
  "language_info": {
   "codemirror_mode": {
    "name": "ipython",
    "version": 3
   },
   "file_extension": ".py",
   "mimetype": "text/x-python",
   "name": "python",
   "nbconvert_exporter": "python",
   "pygments_lexer": "ipython3",
   "version": "3.13.3"
  }
 },
 "nbformat": 4,
 "nbformat_minor": 5
}
