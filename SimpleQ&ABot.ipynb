{
 "cells": [
  {
   "cell_type": "markdown",
   "id": "b0c54b9a",
   "metadata": {},
   "source": [
    "# Simple Q & A Bot\n",
    "## Overview\n",
    "This is a Simple Q & A Bot that uses Gemini and LangChain to answer questions. The agent is designed to understand user questions and provide accurate answers based on the provided context.\n",
    "\n",
    "## Motivation\n",
    "To learn fundamentals of building agents. Creating a Q & A bot is a great way to get started with building agents.\n",
    "- Demonstrate the use of LangChain and Gemini.\n",
    "- Show how to build a simple Q & A bot.\n",
    "- provide a foundation for more complex agents.\n",
    "\n",
    "\n",
    "## Key Components\n",
    "1. Language Model: Gemini\n",
    "2. LangChain: A framework for building agents.\n",
    "3. Prompt template: for defining the structure of the input and context to the language model.\n",
    "4. LLMChain: for chaining the language model and prompt template.\n",
    "\n",
    "## Method Details\n",
    "1. Setup and Initialization\n",
    "2. Define the Prompt Template\n",
    "3. Creating the LLM Chain\n",
    "4. Implementing Q & A function\n",
    "5. User Interaction\n",
    "\n",
    "\n",
    "## Conclusion\n",
    "This Simple Q & A bot is a great way to get started with building agents. It is a simple and easy to understand example of how to build a Q & A bot using LangChain and Gemini. I can add few more things like:\n",
    "- Adding memory to maintain context across multiple interactions.\n",
    "- Adding a knowledge base to provide context to the language model.\n",
    "- Adding a chat interface to interact with the bot.\n",
    "\n",
    "\n"
   ]
  },
  {
   "cell_type": "markdown",
   "id": "ca8c35d7",
   "metadata": {},
   "source": [
    "##"
   ]
  },
  {
   "cell_type": "code",
   "execution_count": 1,
   "id": "526f2012",
   "metadata": {},
   "outputs": [
    {
     "data": {
      "text/plain": [
       "True"
      ]
     },
     "execution_count": 1,
     "metadata": {},
     "output_type": "execute_result"
    }
   ],
   "source": [
    "import os\n",
    "from dotenv import load_dotenv\n",
    "from langchain_google_genai import ChatGoogleGenerativeAI\n",
    "from langchain.prompts import PromptTemplate\n",
    "from langchain.chains import LLMChain\n",
    "load_dotenv()"
   ]
  },
  {
   "cell_type": "code",
   "execution_count": 2,
   "id": "b2777393",
   "metadata": {},
   "outputs": [],
   "source": [
    "load_dotenv()\n",
    "os.environ[\"GOOGLE_API_KEY\"] = os.getenv('GOOGLE_API_KEY')\n",
    "llm = ChatGoogleGenerativeAI(\n",
    "    model=\"gemini-1.5-flash\", # Changed model here!\n",
    "    temperature=0,\n",
    "    google_api_key=os.getenv('GOOGLE_API_KEY')\n",
    ")"
   ]
  },
  {
   "cell_type": "code",
   "execution_count": null,
   "id": "576daa40",
   "metadata": {},
   "outputs": [],
   "source": [
    "template = \"\"\"\"\n",
    "You are a helpful assistant. Your task is to answer the user's questions to the best of your knowledge.\n",
    "Question: {question}\n",
    "Please provide a clear and concise answer:\n",
    "Answer: \"\"\"\n",
    "\n",
    "prompt = PromptTemplate(template=template, input_variables=[\"question\"])"
   ]
  },
  {
   "cell_type": "code",
   "execution_count": null,
   "id": "4f664322",
   "metadata": {},
   "outputs": [],
   "source": []
  }
 ],
 "metadata": {
  "kernelspec": {
   "display_name": "venv",
   "language": "python",
   "name": "python3"
  },
  "language_info": {
   "codemirror_mode": {
    "name": "ipython",
    "version": 3
   },
   "file_extension": ".py",
   "mimetype": "text/x-python",
   "name": "python",
   "nbconvert_exporter": "python",
   "pygments_lexer": "ipython3",
   "version": "3.13.3"
  }
 },
 "nbformat": 4,
 "nbformat_minor": 5
}
