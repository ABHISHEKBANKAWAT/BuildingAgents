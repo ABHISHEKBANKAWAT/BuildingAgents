{
 "cells": [
  {
   "cell_type": "markdown",
   "id": "b0c54b9a",
   "metadata": {},
   "source": [
    "# Simple Q & A Bot\n",
    "## Overview\n",
    "This is a Simple Q & A Bot that uses Gemini and LangChain to answer questions. The agent is designed to understand user questions and provide accurate answers based on the provided context.\n",
    "\n",
    "## Motivation\n",
    "To learn fundamentals of building agents. Creating a Q & A bot is a great way to get started with building agents.\n",
    "- Demonstrate the use of LangChain and Gemini.\n",
    "- Show how to build a simple Q & A bot.\n",
    "- provide a foundation for more complex agents.\n",
    "\n",
    "\n",
    "## Key Components\n",
    "1. Language Model: Gemini\n",
    "2. LangChain: A framework for building agents.\n",
    "3. Prompt template: for defining the structure of the question and context to the language model.\n",
    "4. LLMChain: for chaining the language model and prompt template.\n",
    "\n",
    "## Method Details\n",
    "1. Setup and Initialization\n",
    "2. Define the Prompt Template\n",
    "3. Creating the LLM Chain\n",
    "4. Implementing Q & A function\n",
    "5. User Interaction\n",
    "\n",
    "\n",
    "## Conclusion\n",
    "This Simple Q & A bot is a great way to get started with building agents. It is a simple and easy to understand example of how to build a Q & A bot using LangChain and Gemini. I can add few more things like:\n",
    "- Adding memory to maintain context across multiple interactions.\n",
    "- Adding a knowledge base to provide context to the language model.\n",
    "- Adding a chat interface to interact with the bot.\n",
    "\n",
    "\n"
   ]
  },
  {
   "cell_type": "markdown",
   "id": "ca8c35d7",
   "metadata": {},
   "source": [
    "##"
   ]
  },
  {
   "cell_type": "code",
   "execution_count": 47,
   "id": "526f2012",
   "metadata": {},
   "outputs": [
    {
     "data": {
      "text/plain": [
       "True"
      ]
     },
     "execution_count": 47,
     "metadata": {},
     "output_type": "execute_result"
    }
   ],
   "source": [
    "import os\n",
    "from dotenv import load_dotenv\n",
    "from langchain_core.runnables import RunnableWithMessageHistory\n",
    "from langchain_google_genai import ChatGoogleGenerativeAI\n",
    "from langchain_core.prompts import ChatPromptTemplate, MessagesPlaceholder\n",
    "from langchain.prompts import PromptTemplate    \n",
    "from langchain.chains import LLMChain\n",
    "from langchain.memory import ConversationBufferMemory,  ChatMessageHistory\n",
    "load_dotenv()"
   ]
  },
  {
   "cell_type": "code",
   "execution_count": 2,
   "id": "b2777393",
   "metadata": {},
   "outputs": [],
   "source": [
    "load_dotenv()\n",
    "os.environ[\"GOOGLE_API_KEY\"] = os.getenv('GOOGLE_API_KEY')\n",
    "llm = ChatGoogleGenerativeAI(\n",
    "    model=\"gemini-1.5-flash\", # Changed model here!\n",
    "    temperature=0,\n",
    "    google_api_key=os.getenv('GOOGLE_API_KEY')\n",
    ")"
   ]
  },
  {
   "cell_type": "code",
   "execution_count": 8,
   "id": "5a8e170b",
   "metadata": {},
   "outputs": [],
   "source": [
    "store = {}\n",
    "\n",
    "def getChatHistory(session_id:str):\n",
    "    if session_id not in store:\n",
    "        store[session_id] = ChatMessageHistory()\n",
    "    return store[session_id]"
   ]
  },
  {
   "cell_type": "code",
   "execution_count": 55,
   "id": "576daa40",
   "metadata": {},
   "outputs": [],
   "source": [
    "template = \"\"\"\"\n",
    "You are a helpful assistant. Your task is to answer the user's questions to the best of your knowledge and chat history.\n",
    "Question: {question}\n",
    "Please provide a clear and concise answer:\n",
    "Answer: \"\"\"\n",
    "\n",
    "prompt = PromptTemplate(template=template, question_variables=[\"question\"], input_variables=[\"history\"]) "
   ]
  },
  {
   "cell_type": "code",
   "execution_count": 56,
   "id": "4f664322",
   "metadata": {},
   "outputs": [],
   "source": [
    "qa_chain = LLMChain(llm=llm, prompt=prompt)"
   ]
  },
  {
   "cell_type": "code",
   "execution_count": 57,
   "id": "13f4be04",
   "metadata": {},
   "outputs": [],
   "source": [
    "chain_with_history = RunnableWithMessageHistory(\n",
    "    qa_chain,\n",
    "    getChatHistory,\n",
    "    input_messages_key=\"question\",\n",
    "    history_messages_key=\"history\"\n",
    ")"
   ]
  },
  {
   "cell_type": "code",
   "execution_count": 58,
   "id": "133d1dda",
   "metadata": {},
   "outputs": [],
   "source": [
    "def get_answer(question):\n",
    "    \"\"\"Get an answer to the given question using the LLM chain.\"\"\"\n",
    "    question_variables = {\"question\": question}\n",
    "    response = qa_chain.run(question_variables)\n",
    "    return response"
   ]
  },
  {
   "cell_type": "code",
   "execution_count": 60,
   "id": "96b5ef07",
   "metadata": {},
   "outputs": [
    {
     "name": "stdout",
     "output_type": "stream",
     "text": [
      "Question: what is the capital of India?\n",
      "Answer: New Delhi\n"
     ]
    }
   ],
   "source": [
    "question = \"what is the capital of India?\"\n",
    "answer = get_answer(question)\n",
    "print(\"Question:\", question)\n",
    "print(\"Answer:\", answer)"
   ]
  },
  {
   "cell_type": "code",
   "execution_count": 61,
   "id": "52c8e40b",
   "metadata": {},
   "outputs": [
    {
     "name": "stdout",
     "output_type": "stream",
     "text": [
      "Answer: Answer:  I need more information. \"Ho\" is incomplete.  Please clarify your question.\n"
     ]
    }
   ],
   "source": [
    "\n",
    "user_question = input(\"Enter your question:\")\n",
    "user_answer = get_answer(user_question)\n",
    "print(f\"Answer: {user_answer}\")"
   ]
  },
  {
   "cell_type": "code",
   "execution_count": 62,
   "id": "3003abc5",
   "metadata": {},
   "outputs": [
    {
     "name": "stdout",
     "output_type": "stream",
     "text": [
      "{'question': 'Hello! How are you?', 'history': [HumanMessage(content='Hello! How are you?', additional_kwargs={}, response_metadata={}), AIMessage(content='I am doing well, thank you!', additional_kwargs={}, response_metadata={}), HumanMessage(content='What was my previous message?', additional_kwargs={}, response_metadata={}), AIMessage(content='Answer: I have no memory of past conversations.  Each interaction with me starts fresh.', additional_kwargs={}, response_metadata={}), HumanMessage(content='Hello! How are you?', additional_kwargs={}, response_metadata={}), AIMessage(content='I am doing well, thank you!', additional_kwargs={}, response_metadata={}), HumanMessage(content='What was my previous message?', additional_kwargs={}, response_metadata={}), AIMessage(content='Answer: I have no memory of past conversations.  Each interaction with me starts fresh.', additional_kwargs={}, response_metadata={}), HumanMessage(content='Hello! How are you?', additional_kwargs={}, response_metadata={}), AIMessage(content='I am doing well, thank you for asking! How are you today?', additional_kwargs={}, response_metadata={}), HumanMessage(content='What was my previous message?', additional_kwargs={}, response_metadata={}), AIMessage(content='Your previous message was \"Hello! How are you?\"', additional_kwargs={}, response_metadata={})], 'text': 'I am doing well, thank you!'}\n",
      "{'question': 'What was my previous message?', 'history': [HumanMessage(content='Hello! How are you?', additional_kwargs={}, response_metadata={}), AIMessage(content='I am doing well, thank you!', additional_kwargs={}, response_metadata={}), HumanMessage(content='What was my previous message?', additional_kwargs={}, response_metadata={}), AIMessage(content='Answer: I have no memory of past conversations.  Each interaction with me starts fresh.', additional_kwargs={}, response_metadata={}), HumanMessage(content='Hello! How are you?', additional_kwargs={}, response_metadata={}), AIMessage(content='I am doing well, thank you!', additional_kwargs={}, response_metadata={}), HumanMessage(content='What was my previous message?', additional_kwargs={}, response_metadata={}), AIMessage(content='Answer: I have no memory of past conversations.  Each interaction with me starts fresh.', additional_kwargs={}, response_metadata={}), HumanMessage(content='Hello! How are you?', additional_kwargs={}, response_metadata={}), AIMessage(content='I am doing well, thank you for asking! How are you today?', additional_kwargs={}, response_metadata={}), HumanMessage(content='What was my previous message?', additional_kwargs={}, response_metadata={}), AIMessage(content='Your previous message was \"Hello! How are you?\"', additional_kwargs={}, response_metadata={}), HumanMessage(content='Hello! How are you?', additional_kwargs={}, response_metadata={}), AIMessage(content='I am doing well, thank you!', additional_kwargs={}, response_metadata={})], 'text': 'Answer: There was no previous message in this current conversation.'}\n"
     ]
    }
   ],
   "source": [
    "session_id = \"user_123\"\n",
    "\n",
    "\n",
    "response1 = chain_with_history.invoke(\n",
    "    {\"question\": \"Hello! How are you?\"},\n",
    "    config={\"configurable\": {\"session_id\": session_id}}\n",
    ")\n",
    "print(response1)\n",
    "\n",
    "\n",
    "response2 = chain_with_history.invoke(\n",
    "    {\"question\": \"What was my previous message?\"},\n",
    "    config={\"configurable\": {\"session_id\": session_id}}\n",
    ")\n",
    "print(response2)\n"
   ]
  },
  {
   "cell_type": "code",
   "execution_count": 63,
   "id": "d8a53bbe",
   "metadata": {},
   "outputs": [
    {
     "name": "stdout",
     "output_type": "stream",
     "text": [
      "First interaction:\n",
      "AI: {'question': 'Hello! How are you today?', 'history': [HumanMessage(content='Hello! How are you today?', additional_kwargs={}, response_metadata={}), AIMessage(content='I am doing well, thank you!', additional_kwargs={}, response_metadata={}), HumanMessage(content='What was my previous message?', additional_kwargs={}, response_metadata={}), AIMessage(content='Answer: I have no memory of past conversations.  Each interaction with me starts fresh.', additional_kwargs={}, response_metadata={}), HumanMessage(content='And what about my first message to you?', additional_kwargs={}, response_metadata={}), AIMessage(content='Answer: I have no memory of past conversations.  Each interaction with me starts fresh.', additional_kwargs={}, response_metadata={}), HumanMessage(content='Hello! How are you today?', additional_kwargs={}, response_metadata={}), AIMessage(content='I am doing well, thank you for asking! How are you today?', additional_kwargs={}, response_metadata={}), HumanMessage(content='What was my previous message?', additional_kwargs={}, response_metadata={}), AIMessage(content='Your previous message was \"Hello! How are you today?\"', additional_kwargs={}, response_metadata={}), HumanMessage(content='And what about my first message to you?', additional_kwargs={}, response_metadata={}), AIMessage(content=\"I have no memory of messages from previous conversations.  My memory resets with each new interaction.  Therefore, I don't know what your first message to me *ever* was.\", additional_kwargs={}, response_metadata={})], 'text': \"I'm doing well, thank you!\"}\n",
      "\n",
      "Second interaction (referencing previous message):\n",
      "AI: {'question': 'What was my previous message?', 'history': [HumanMessage(content='Hello! How are you today?', additional_kwargs={}, response_metadata={}), AIMessage(content='I am doing well, thank you!', additional_kwargs={}, response_metadata={}), HumanMessage(content='What was my previous message?', additional_kwargs={}, response_metadata={}), AIMessage(content='Answer: I have no memory of past conversations.  Each interaction with me starts fresh.', additional_kwargs={}, response_metadata={}), HumanMessage(content='And what about my first message to you?', additional_kwargs={}, response_metadata={}), AIMessage(content='Answer: I have no memory of past conversations.  Each interaction with me starts fresh.', additional_kwargs={}, response_metadata={}), HumanMessage(content='Hello! How are you today?', additional_kwargs={}, response_metadata={}), AIMessage(content='I am doing well, thank you for asking! How are you today?', additional_kwargs={}, response_metadata={}), HumanMessage(content='What was my previous message?', additional_kwargs={}, response_metadata={}), AIMessage(content='Your previous message was \"Hello! How are you today?\"', additional_kwargs={}, response_metadata={}), HumanMessage(content='And what about my first message to you?', additional_kwargs={}, response_metadata={}), AIMessage(content=\"I have no memory of messages from previous conversations.  My memory resets with each new interaction.  Therefore, I don't know what your first message to me *ever* was.\", additional_kwargs={}, response_metadata={}), HumanMessage(content='Hello! How are you today?', additional_kwargs={}, response_metadata={}), AIMessage(content=\"I'm doing well, thank you!\", additional_kwargs={}, response_metadata={})], 'text': 'Answer: There was no previous message in this current conversation.'}\n",
      "\n",
      "Third interaction with a different session (should not remember previous):\n",
      "AI: {'question': \"What's the capital of France?\", 'history': [HumanMessage(content=\"What's the capital of France?\", additional_kwargs={}, response_metadata={}), AIMessage(content='Paris', additional_kwargs={}, response_metadata={}), HumanMessage(content=\"What's the capital of France?\", additional_kwargs={}, response_metadata={}), AIMessage(content='Paris', additional_kwargs={}, response_metadata={})], 'text': 'Paris'}\n",
      "\n",
      "Fourth interaction with original session (should remember its own history):\n",
      "AI: {'question': 'And what about my first message to you?', 'history': [HumanMessage(content='Hello! How are you today?', additional_kwargs={}, response_metadata={}), AIMessage(content='I am doing well, thank you!', additional_kwargs={}, response_metadata={}), HumanMessage(content='What was my previous message?', additional_kwargs={}, response_metadata={}), AIMessage(content='Answer: I have no memory of past conversations.  Each interaction with me starts fresh.', additional_kwargs={}, response_metadata={}), HumanMessage(content='And what about my first message to you?', additional_kwargs={}, response_metadata={}), AIMessage(content='Answer: I have no memory of past conversations.  Each interaction with me starts fresh.', additional_kwargs={}, response_metadata={}), HumanMessage(content='Hello! How are you today?', additional_kwargs={}, response_metadata={}), AIMessage(content='I am doing well, thank you for asking! How are you today?', additional_kwargs={}, response_metadata={}), HumanMessage(content='What was my previous message?', additional_kwargs={}, response_metadata={}), AIMessage(content='Your previous message was \"Hello! How are you today?\"', additional_kwargs={}, response_metadata={}), HumanMessage(content='And what about my first message to you?', additional_kwargs={}, response_metadata={}), AIMessage(content=\"I have no memory of messages from previous conversations.  My memory resets with each new interaction.  Therefore, I don't know what your first message to me *ever* was.\", additional_kwargs={}, response_metadata={}), HumanMessage(content='Hello! How are you today?', additional_kwargs={}, response_metadata={}), AIMessage(content=\"I'm doing well, thank you!\", additional_kwargs={}, response_metadata={}), HumanMessage(content='What was my previous message?', additional_kwargs={}, response_metadata={}), AIMessage(content='Answer: There was no previous message in this current conversation.', additional_kwargs={}, response_metadata={})], 'text': 'Answer: I have no memory of past conversations.  Each interaction starts fresh.'}\n"
     ]
    }
   ],
   "source": [
    "# Example usage:\n",
    "session_id = \"user_321\" # A unique identifier for this conversation session\n",
    "\n",
    "print(\"First interaction:\")\n",
    "response1 = chain_with_history.invoke(\n",
    "    {\"question\": \"Hello! How are you today?\"},\n",
    "    config={\"configurable\": {\"session_id\": session_id}}\n",
    ")\n",
    "print(\"AI:\", response1)\n",
    "\n",
    "print(\"\\nSecond interaction (referencing previous message):\")\n",
    "response2 = chain_with_history.invoke(\n",
    "    {\"question\": \"What was my previous message?\"},\n",
    "    config={\"configurable\": {\"session_id\": session_id}}\n",
    ")\n",
    "print(\"AI:\", response2)\n",
    "\n",
    "print(\"\\nThird interaction with a different session (should not remember previous):\")\n",
    "session_id_2 = \"user_456\"\n",
    "response3 = chain_with_history.invoke(\n",
    "    {\"question\": \"What's the capital of France?\"},\n",
    "    config={\"configurable\": {\"session_id\": session_id_2}}\n",
    ")\n",
    "print(\"AI:\", response3)\n",
    "\n",
    "print(\"\\nFourth interaction with original session (should remember its own history):\")\n",
    "response4 = chain_with_history.invoke(\n",
    "    {\"question\": \"And what about my first message to you?\"},\n",
    "    config={\"configurable\": {\"session_id\": session_id}}\n",
    ")\n",
    "print(\"AI:\", response4)"
   ]
  },
  {
   "cell_type": "code",
   "execution_count": null,
   "id": "2d68ea13",
   "metadata": {},
   "outputs": [],
   "source": []
  },
  {
   "cell_type": "code",
   "execution_count": null,
   "id": "68fcf06a",
   "metadata": {},
   "outputs": [],
   "source": []
  }
 ],
 "metadata": {
  "kernelspec": {
   "display_name": "venv",
   "language": "python",
   "name": "python3"
  },
  "language_info": {
   "codemirror_mode": {
    "name": "ipython",
    "version": 3
   },
   "file_extension": ".py",
   "mimetype": "text/x-python",
   "name": "python",
   "nbconvert_exporter": "python",
   "pygments_lexer": "ipython3",
   "version": "3.13.3"
  }
 },
 "nbformat": 4,
 "nbformat_minor": 5
}
